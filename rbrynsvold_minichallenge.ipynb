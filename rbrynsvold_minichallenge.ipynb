{
 "cells": [
  {
   "cell_type": "markdown",
   "metadata": {},
   "source": [
    "## Part 1\n",
    "\n",
    "### Download the dataset\n",
    "\n",
    "\n",
    "_In this section I'll do all the setup and dataframe tweaking_"
   ]
  },
  {
   "cell_type": "code",
   "execution_count": 399,
   "metadata": {
    "collapsed": false
   },
   "outputs": [],
   "source": [
    "import pandas as pd\n",
    "import numpy as np\n",
    "import io\n",
    "import requests"
   ]
  },
  {
   "cell_type": "markdown",
   "metadata": {},
   "source": [
    "__Read the data directly from the github URL into a dataframe:__"
   ]
  },
  {
   "cell_type": "code",
   "execution_count": 400,
   "metadata": {
    "collapsed": false
   },
   "outputs": [
    {
     "data": {
      "text/html": [
       "<div>\n",
       "<table border=\"1\" class=\"dataframe\">\n",
       "  <thead>\n",
       "    <tr style=\"text-align: right;\">\n",
       "      <th></th>\n",
       "      <th>job_title</th>\n",
       "      <th>department</th>\n",
       "      <th>salary</th>\n",
       "      <th>Join Date</th>\n",
       "    </tr>\n",
       "  </thead>\n",
       "  <tbody>\n",
       "    <tr>\n",
       "      <th>0</th>\n",
       "      <td>WATER RATE TAKER</td>\n",
       "      <td>WATER MGMNT</td>\n",
       "      <td>$87228.0</td>\n",
       "      <td>2000-09-27 00:00:00</td>\n",
       "    </tr>\n",
       "    <tr>\n",
       "      <th>1</th>\n",
       "      <td>POLICE OFFICER</td>\n",
       "      <td>POLICE</td>\n",
       "      <td>$75372.0</td>\n",
       "      <td>2000-08-04 00:00:00</td>\n",
       "    </tr>\n",
       "    <tr>\n",
       "      <th>2</th>\n",
       "      <td>POLICE OFFICER</td>\n",
       "      <td>POLICE</td>\n",
       "      <td>$75372.0</td>\n",
       "      <td>2000-01-20 00:00:00</td>\n",
       "    </tr>\n",
       "    <tr>\n",
       "      <th>3</th>\n",
       "      <td>CHIEF CONTRACT EXPEDITER</td>\n",
       "      <td>GENERAL SERVICES</td>\n",
       "      <td>$80916.0</td>\n",
       "      <td>2000-04-27 00:00:00</td>\n",
       "    </tr>\n",
       "    <tr>\n",
       "      <th>4</th>\n",
       "      <td>CIVIL ENGINEER IV</td>\n",
       "      <td>WATER MGMNT</td>\n",
       "      <td>$99648.0</td>\n",
       "      <td>2000-02-11 00:00:00</td>\n",
       "    </tr>\n",
       "  </tbody>\n",
       "</table>\n",
       "</div>"
      ],
      "text/plain": [
       "                  job_title        department    salary            Join Date\n",
       "0          WATER RATE TAKER       WATER MGMNT  $87228.0  2000-09-27 00:00:00\n",
       "1            POLICE OFFICER            POLICE  $75372.0  2000-08-04 00:00:00\n",
       "2            POLICE OFFICER            POLICE  $75372.0  2000-01-20 00:00:00\n",
       "3  CHIEF CONTRACT EXPEDITER  GENERAL SERVICES  $80916.0  2000-04-27 00:00:00\n",
       "4         CIVIL ENGINEER IV       WATER MGMNT  $99648.0  2000-02-11 00:00:00"
      ]
     },
     "execution_count": 400,
     "metadata": {},
     "output_type": "execute_result"
    }
   ],
   "source": [
    "url = \"https://raw.githubusercontent.com/zipfian/galvanize_mini_challenge_1/master/data/salary_take_home.csv\"\n",
    "s = requests.get(url).content\n",
    "df = pd.read_csv(io.StringIO(s.decode('utf-8')), index_col=0)\n",
    "df.head()"
   ]
  },
  {
   "cell_type": "markdown",
   "metadata": {},
   "source": [
    "__Remove spaces from column names:__\n",
    "\n",
    "_ for ease of manipulation later_"
   ]
  },
  {
   "cell_type": "code",
   "execution_count": 401,
   "metadata": {
    "collapsed": false
   },
   "outputs": [
    {
     "data": {
      "text/html": [
       "<div>\n",
       "<table border=\"1\" class=\"dataframe\">\n",
       "  <thead>\n",
       "    <tr style=\"text-align: right;\">\n",
       "      <th></th>\n",
       "      <th>job_title</th>\n",
       "      <th>department</th>\n",
       "      <th>salary</th>\n",
       "      <th>join_date</th>\n",
       "    </tr>\n",
       "  </thead>\n",
       "  <tbody>\n",
       "    <tr>\n",
       "      <th>0</th>\n",
       "      <td>WATER RATE TAKER</td>\n",
       "      <td>WATER MGMNT</td>\n",
       "      <td>$87228.0</td>\n",
       "      <td>2000-09-27 00:00:00</td>\n",
       "    </tr>\n",
       "    <tr>\n",
       "      <th>1</th>\n",
       "      <td>POLICE OFFICER</td>\n",
       "      <td>POLICE</td>\n",
       "      <td>$75372.0</td>\n",
       "      <td>2000-08-04 00:00:00</td>\n",
       "    </tr>\n",
       "    <tr>\n",
       "      <th>2</th>\n",
       "      <td>POLICE OFFICER</td>\n",
       "      <td>POLICE</td>\n",
       "      <td>$75372.0</td>\n",
       "      <td>2000-01-20 00:00:00</td>\n",
       "    </tr>\n",
       "    <tr>\n",
       "      <th>3</th>\n",
       "      <td>CHIEF CONTRACT EXPEDITER</td>\n",
       "      <td>GENERAL SERVICES</td>\n",
       "      <td>$80916.0</td>\n",
       "      <td>2000-04-27 00:00:00</td>\n",
       "    </tr>\n",
       "    <tr>\n",
       "      <th>4</th>\n",
       "      <td>CIVIL ENGINEER IV</td>\n",
       "      <td>WATER MGMNT</td>\n",
       "      <td>$99648.0</td>\n",
       "      <td>2000-02-11 00:00:00</td>\n",
       "    </tr>\n",
       "  </tbody>\n",
       "</table>\n",
       "</div>"
      ],
      "text/plain": [
       "                  job_title        department    salary            join_date\n",
       "0          WATER RATE TAKER       WATER MGMNT  $87228.0  2000-09-27 00:00:00\n",
       "1            POLICE OFFICER            POLICE  $75372.0  2000-08-04 00:00:00\n",
       "2            POLICE OFFICER            POLICE  $75372.0  2000-01-20 00:00:00\n",
       "3  CHIEF CONTRACT EXPEDITER  GENERAL SERVICES  $80916.0  2000-04-27 00:00:00\n",
       "4         CIVIL ENGINEER IV       WATER MGMNT  $99648.0  2000-02-11 00:00:00"
      ]
     },
     "execution_count": 401,
     "metadata": {},
     "output_type": "execute_result"
    }
   ],
   "source": [
    "df.rename(columns = {'Join Date':'join_date'}, inplace=True)\n",
    "df.head()"
   ]
  },
  {
   "cell_type": "markdown",
   "metadata": {},
   "source": [
    "__Fix column datatypes:__\n",
    "    \n",
    "*salary' to float, 'join_date' to datetime*"
   ]
  },
  {
   "cell_type": "code",
   "execution_count": 402,
   "metadata": {
    "collapsed": false
   },
   "outputs": [],
   "source": [
    "df.salary = pd.to_numeric([entry.replace(\"$\", \"\") for entry in df.salary])\n",
    "df.join_date = pd.to_datetime(df.join_date)"
   ]
  },
  {
   "cell_type": "markdown",
   "metadata": {},
   "source": [
    "__Confirm datatypes were updated as desired:__"
   ]
  },
  {
   "cell_type": "code",
   "execution_count": 403,
   "metadata": {
    "collapsed": false
   },
   "outputs": [
    {
     "name": "stdout",
     "output_type": "stream",
     "text": [
      "<class 'pandas.core.frame.DataFrame'>\n",
      "Int64Index: 32160 entries, 0 to 32159\n",
      "Data columns (total 4 columns):\n",
      "job_title     32160 non-null object\n",
      "department    32160 non-null object\n",
      "salary        32160 non-null float64\n",
      "join_date     32160 non-null datetime64[ns]\n",
      "dtypes: datetime64[ns](1), float64(1), object(2)\n",
      "memory usage: 1.2+ MB\n"
     ]
    }
   ],
   "source": [
    "df.info()"
   ]
  },
  {
   "cell_type": "markdown",
   "metadata": {},
   "source": [
    "_yep!_"
   ]
  },
  {
   "cell_type": "markdown",
   "metadata": {},
   "source": [
    "\n",
    "## Part 2\n",
    "\n",
    "### Compute the mean salary of the whole dataset"
   ]
  },
  {
   "cell_type": "markdown",
   "metadata": {},
   "source": [
    "__Option 1:__\n",
    "\n",
    "_take mean of the 'salary' column_"
   ]
  },
  {
   "cell_type": "code",
   "execution_count": 404,
   "metadata": {
    "collapsed": false
   },
   "outputs": [
    {
     "data": {
      "text/plain": [
       "75559.10887313307"
      ]
     },
     "execution_count": 404,
     "metadata": {},
     "output_type": "execute_result"
    }
   ],
   "source": [
    "df.salary.mean()"
   ]
  },
  {
   "cell_type": "markdown",
   "metadata": {},
   "source": [
    "__Option 2:__\n",
    "\n",
    "_use the .describe method on the dataframe object, and the information shown includes the mean._"
   ]
  },
  {
   "cell_type": "code",
   "execution_count": 405,
   "metadata": {
    "collapsed": false
   },
   "outputs": [
    {
     "data": {
      "text/html": [
       "<div>\n",
       "<table border=\"1\" class=\"dataframe\">\n",
       "  <thead>\n",
       "    <tr style=\"text-align: right;\">\n",
       "      <th></th>\n",
       "      <th>salary</th>\n",
       "    </tr>\n",
       "  </thead>\n",
       "  <tbody>\n",
       "    <tr>\n",
       "      <th>count</th>\n",
       "      <td>32160.000000</td>\n",
       "    </tr>\n",
       "    <tr>\n",
       "      <th>mean</th>\n",
       "      <td>75559.108873</td>\n",
       "    </tr>\n",
       "    <tr>\n",
       "      <th>std</th>\n",
       "      <td>23412.862198</td>\n",
       "    </tr>\n",
       "    <tr>\n",
       "      <th>min</th>\n",
       "      <td>0.960000</td>\n",
       "    </tr>\n",
       "    <tr>\n",
       "      <th>25%</th>\n",
       "      <td>69648.000000</td>\n",
       "    </tr>\n",
       "    <tr>\n",
       "      <th>50%</th>\n",
       "      <td>78012.000000</td>\n",
       "    </tr>\n",
       "    <tr>\n",
       "      <th>75%</th>\n",
       "      <td>87324.000000</td>\n",
       "    </tr>\n",
       "    <tr>\n",
       "      <th>max</th>\n",
       "      <td>260004.000000</td>\n",
       "    </tr>\n",
       "  </tbody>\n",
       "</table>\n",
       "</div>"
      ],
      "text/plain": [
       "              salary\n",
       "count   32160.000000\n",
       "mean    75559.108873\n",
       "std     23412.862198\n",
       "min         0.960000\n",
       "25%     69648.000000\n",
       "50%     78012.000000\n",
       "75%     87324.000000\n",
       "max    260004.000000"
      ]
     },
     "execution_count": 405,
     "metadata": {},
     "output_type": "execute_result"
    }
   ],
   "source": [
    "df.describe()"
   ]
  },
  {
   "cell_type": "markdown",
   "metadata": {},
   "source": [
    "> Mean salary, whole dataset: __$75,559__"
   ]
  },
  {
   "cell_type": "markdown",
   "metadata": {},
   "source": [
    "## Part 3\n",
    "\n",
    "### Compute the mean salary of Police Officers"
   ]
  },
  {
   "cell_type": "markdown",
   "metadata": {},
   "source": [
    "__Filter DataFrame for job_titles equal to \"POLICE OFFICER\", and then calculate the mean of the salary column for that subset:__"
   ]
  },
  {
   "cell_type": "code",
   "execution_count": 406,
   "metadata": {
    "collapsed": false
   },
   "outputs": [
    {
     "data": {
      "text/plain": [
       "76560.34142206209"
      ]
     },
     "execution_count": 406,
     "metadata": {},
     "output_type": "execute_result"
    }
   ],
   "source": [
    "df[df.eval('job_title == \"POLICE OFFICER\"')].salary.mean()"
   ]
  },
  {
   "cell_type": "markdown",
   "metadata": {},
   "source": [
    "_but there are a lot of different job titles_"
   ]
  },
  {
   "cell_type": "code",
   "execution_count": 407,
   "metadata": {
    "collapsed": false
   },
   "outputs": [
    {
     "data": {
      "text/plain": [
       "(array(['WATER RATE TAKER', 'POLICE OFFICER', 'CHIEF CONTRACT EXPEDITER',\n",
       "        ..., 'ANIMAL SHELTER MANAGER', 'PREPRESS TECHNICIAN',\n",
       "        'MECHANICAL ENGINEER IV'], dtype=object), 1096)"
      ]
     },
     "execution_count": 407,
     "metadata": {},
     "output_type": "execute_result"
    }
   ],
   "source": [
    "unique_titles = df.job_title.unique()\n",
    "unique_titles, len(unique_titles)"
   ]
  },
  {
   "cell_type": "markdown",
   "metadata": {},
   "source": [
    "_and I have a feeling that there may be some police officer jobs that aren't in this dataset exactly as \"POLICE OFFICER\"_"
   ]
  },
  {
   "cell_type": "code",
   "execution_count": 408,
   "metadata": {
    "collapsed": false
   },
   "outputs": [
    {
     "data": {
      "text/plain": [
       "(array(['POLICE OFFICER',\n",
       "        'POLICE OFFICER (ASSIGNED AS EVIDENCE TECHNICIAN)',\n",
       "        'POLICE OFFICER (ASSIGNED AS DETECTIVE)',\n",
       "        'POLICE OFFICER/EXPLSV DETECT K9 HNDLR',\n",
       "        'POLICE OFFICER / FLD TRNG OFFICER',\n",
       "        'POLICE OFFICER (ASGND AS MARINE OFFICER)',\n",
       "        'POLICE OFFICER (ASGND AS MOUNTED PATROL OFFICER)',\n",
       "        'POLICE OFFICER (ASSIGNED AS CANINE HANDLER)',\n",
       "        'POLICE OFFICER (PER ARBITRATION AWARD)',\n",
       "        'POLICE OFFICER (ASSIGNED AS TRAFFIC SPECIALIST)',\n",
       "        'POLICE OFFICER(ASGND AS LATENT PRINT EX)',\n",
       "        'POLICE OFFICER (ASSIGNED AS SECURITY SPECIALIST)',\n",
       "        'POLICE OFFICER(ASGND AS SUPVG LATENT PRINT EX)'], dtype=object), 13)"
      ]
     },
     "execution_count": 408,
     "metadata": {},
     "output_type": "execute_result"
    }
   ],
   "source": [
    "police_jobs = df[df.job_title.str.contains(\"POLICE OFFICER\")].job_title.unique()\n",
    "police_jobs, len(police_jobs)"
   ]
  },
  {
   "cell_type": "markdown",
   "metadata": {},
   "source": [
    "_my hunch is correct - in fact there are __13__ unique job titles that include the substring \"POLICE OFFICER\"!_"
   ]
  },
  {
   "cell_type": "markdown",
   "metadata": {},
   "source": [
    "__So, filter the DataFrame for entries with a job title matching one of the titles from this array, and calculate the mean salary of that:__"
   ]
  },
  {
   "cell_type": "code",
   "execution_count": 409,
   "metadata": {
    "collapsed": false
   },
   "outputs": [
    {
     "data": {
      "text/plain": [
       "77891.0402482603"
      ]
     },
     "execution_count": 409,
     "metadata": {},
     "output_type": "execute_result"
    }
   ],
   "source": [
    "df[df.job_title.isin(police_jobs)].salary.mean()"
   ]
  },
  {
   "cell_type": "markdown",
   "metadata": {},
   "source": [
    "> Mean salary:\n",
    "* \"POLICE OFFICERS\": 76,560\n",
    "* All titles that include \"POLICE OFFICER\": 77,891"
   ]
  },
  {
   "cell_type": "markdown",
   "metadata": {},
   "source": [
    "## Part 4\n",
    "\n",
    "### Find the four job titles with the highest average salaries"
   ]
  },
  {
   "cell_type": "markdown",
   "metadata": {},
   "source": [
    "__Group by job_title, find the mean salary, sort descending, and look only at top four entries:__\n",
    "\n",
    "_save the result for use in later parts_"
   ]
  },
  {
   "cell_type": "code",
   "execution_count": 410,
   "metadata": {
    "collapsed": false
   },
   "outputs": [
    {
     "data": {
      "text/html": [
       "<div>\n",
       "<table border=\"1\" class=\"dataframe\">\n",
       "  <thead>\n",
       "    <tr style=\"text-align: right;\">\n",
       "      <th></th>\n",
       "      <th>salary</th>\n",
       "    </tr>\n",
       "    <tr>\n",
       "      <th>job_title</th>\n",
       "      <th></th>\n",
       "    </tr>\n",
       "  </thead>\n",
       "  <tbody>\n",
       "    <tr>\n",
       "      <th>SUPERINTENDENT OF POLICE</th>\n",
       "      <td>260004.0</td>\n",
       "    </tr>\n",
       "    <tr>\n",
       "      <th>MAYOR</th>\n",
       "      <td>216210.0</td>\n",
       "    </tr>\n",
       "    <tr>\n",
       "      <th>FIRE COMMISSIONER</th>\n",
       "      <td>202728.0</td>\n",
       "    </tr>\n",
       "    <tr>\n",
       "      <th>FIRST DEPUTY SUPERINTENDENT</th>\n",
       "      <td>188316.0</td>\n",
       "    </tr>\n",
       "  </tbody>\n",
       "</table>\n",
       "</div>"
      ],
      "text/plain": [
       "                               salary\n",
       "job_title                            \n",
       "SUPERINTENDENT OF POLICE     260004.0\n",
       "MAYOR                        216210.0\n",
       "FIRE COMMISSIONER            202728.0\n",
       "FIRST DEPUTY SUPERINTENDENT  188316.0"
      ]
     },
     "execution_count": 410,
     "metadata": {},
     "output_type": "execute_result"
    }
   ],
   "source": [
    "df_gb_job_title = df.groupby('job_title')\n",
    "four_highest_sal_jts = df_gb_job_title.mean().sort_values('salary', ascending=False)[0:4]\n",
    "four_highest_sal_jts"
   ]
  },
  {
   "cell_type": "markdown",
   "metadata": {},
   "source": [
    "> Four job titles with highest average salaries:\n",
    "* Superintendent of Police\n",
    "* Mayor\n",
    "* Fire Commissioner\n",
    "* First Deputy Superintendent\n"
   ]
  },
  {
   "cell_type": "markdown",
   "metadata": {},
   "source": [
    "## Part 5\n",
    "\n",
    "### 95% confidence interval around the mean salary of the whole dataset"
   ]
  },
  {
   "cell_type": "code",
   "execution_count": 411,
   "metadata": {
    "collapsed": true
   },
   "outputs": [],
   "source": [
    "from scipy import stats"
   ]
  },
  {
   "cell_type": "markdown",
   "metadata": {},
   "source": [
    "__Use scipy's stats module to calculate the mean, sigma, and sample size for the entire salary dataset:__"
   ]
  },
  {
   "cell_type": "code",
   "execution_count": 412,
   "metadata": {
    "collapsed": false
   },
   "outputs": [
    {
     "data": {
      "text/plain": [
       "(75559.10887313307, 23412.862198213734, 32160)"
      ]
     },
     "execution_count": 412,
     "metadata": {},
     "output_type": "execute_result"
    }
   ],
   "source": [
    "mean, sigma, N = df.salary.mean(), df.salary.std(ddof=1), len(df.salary)\n",
    "mean, sigma, N"
   ]
  },
  {
   "cell_type": "markdown",
   "metadata": {},
   "source": [
    "__Plug these values into the interval calculator for a normal random distribution and a 95% confidence level:__"
   ]
  },
  {
   "cell_type": "code",
   "execution_count": 413,
   "metadata": {
    "collapsed": false
   },
   "outputs": [
    {
     "data": {
      "text/plain": [
       "(75303.224019418209, 75814.993726847926)"
      ]
     },
     "execution_count": 413,
     "metadata": {},
     "output_type": "execute_result"
    }
   ],
   "source": [
    "conf_interval_all_salary = stats.norm.interval(0.95, loc=mean, scale=sigma/(N**.5))\n",
    "conf_interval_all_salary"
   ]
  },
  {
   "cell_type": "markdown",
   "metadata": {},
   "source": [
    "> There is a 95% chance that a randomly selected salary from the dataset will fall between __75,303__ and __75,815__."
   ]
  },
  {
   "cell_type": "markdown",
   "metadata": {},
   "source": [
    "## Part 6\n",
    "\n",
    "### Boxplot showing the salaries for the top four Job Titles from Part 4"
   ]
  },
  {
   "cell_type": "markdown",
   "metadata": {},
   "source": [
    "_get ready to display the plot_"
   ]
  },
  {
   "cell_type": "code",
   "execution_count": 414,
   "metadata": {
    "collapsed": true
   },
   "outputs": [],
   "source": [
    "import matplotlib.pyplot as plt\n",
    "%matplotlib inline\n",
    "import matplotlib\n",
    "matplotlib.style.use('ggplot')"
   ]
  },
  {
   "cell_type": "code",
   "execution_count": 415,
   "metadata": {
    "collapsed": false
   },
   "outputs": [
    {
     "data": {
      "text/html": [
       "<div>\n",
       "<table border=\"1\" class=\"dataframe\">\n",
       "  <thead>\n",
       "    <tr style=\"text-align: right;\">\n",
       "      <th></th>\n",
       "      <th>salary</th>\n",
       "    </tr>\n",
       "    <tr>\n",
       "      <th>job_title</th>\n",
       "      <th></th>\n",
       "    </tr>\n",
       "  </thead>\n",
       "  <tbody>\n",
       "    <tr>\n",
       "      <th>SUPERINTENDENT OF POLICE</th>\n",
       "      <td>260004.0</td>\n",
       "    </tr>\n",
       "    <tr>\n",
       "      <th>MAYOR</th>\n",
       "      <td>216210.0</td>\n",
       "    </tr>\n",
       "    <tr>\n",
       "      <th>FIRE COMMISSIONER</th>\n",
       "      <td>202728.0</td>\n",
       "    </tr>\n",
       "    <tr>\n",
       "      <th>FIRST DEPUTY SUPERINTENDENT</th>\n",
       "      <td>188316.0</td>\n",
       "    </tr>\n",
       "  </tbody>\n",
       "</table>\n",
       "</div>"
      ],
      "text/plain": [
       "                               salary\n",
       "job_title                            \n",
       "SUPERINTENDENT OF POLICE     260004.0\n",
       "MAYOR                        216210.0\n",
       "FIRE COMMISSIONER            202728.0\n",
       "FIRST DEPUTY SUPERINTENDENT  188316.0"
      ]
     },
     "execution_count": 415,
     "metadata": {},
     "output_type": "execute_result"
    }
   ],
   "source": [
    "#recall the result from part 4\n",
    "four_highest_sal_jts"
   ]
  },
  {
   "cell_type": "markdown",
   "metadata": {},
   "source": [
    "__As a boxplot:__"
   ]
  },
  {
   "cell_type": "code",
   "execution_count": 416,
   "metadata": {
    "collapsed": false
   },
   "outputs": [
    {
     "data": {
      "text/plain": [
       "<matplotlib.axes._subplots.AxesSubplot at 0x1216e0f90>"
      ]
     },
     "execution_count": 416,
     "metadata": {},
     "output_type": "execute_result"
    },
    {
     "data": {
      "image/png": "[encoded data removed]",
      "text/plain": [
       "<matplotlib.figure.Figure at 0x120138b90>"
      ]
     },
     "metadata": {},
     "output_type": "display_data"
    }
   ],
   "source": [
    "four_highest_sal_jts.plot.box()"
   ]
  },
  {
   "cell_type": "markdown",
   "metadata": {},
   "source": [
    "__I need to make sure I'm getting all the salary data for those four job titles.__\n",
    "\n",
    "_create objects needed to check the original dataframe for further entires of each job titles:_"
   ]
  },
  {
   "cell_type": "code",
   "execution_count": 417,
   "metadata": {
    "collapsed": false
   },
   "outputs": [
    {
     "data": {
      "text/plain": [
       "['SUPERINTENDENT OF POLICE',\n",
       " 'MAYOR',\n",
       " 'FIRE COMMISSIONER',\n",
       " 'FIRST DEPUTY SUPERINTENDENT']"
      ]
     },
     "execution_count": 417,
     "metadata": {},
     "output_type": "execute_result"
    }
   ],
   "source": [
    "table_four_highest_sal_jts = four_highest_sal_jts.transpose()\n",
    "table_four_highest_sal_jtslst_four_highest_jts = list(table_four_highest_sal_jts)\n",
    "lst_four_highest_jts"
   ]
  },
  {
   "cell_type": "markdown",
   "metadata": {},
   "source": [
    "_Then search the original dataframe for each job title_:"
   ]
  },
  {
   "cell_type": "code",
   "execution_count": 418,
   "metadata": {
    "collapsed": false
   },
   "outputs": [
    {
     "data": {
      "text/plain": [
       "[1, 1, 1, 1]"
      ]
     },
     "execution_count": 418,
     "metadata": {},
     "output_type": "execute_result"
    }
   ],
   "source": [
    "[len(df[df.job_title == lst_four_highest_jts[i]]) for i in range(0,4)]"
   ]
  },
  {
   "cell_type": "markdown",
   "metadata": {},
   "source": [
    "_The above result tells me that each of the four highest salary job titles has only one entry in the entire table, so my initial box plot was actually complete._\n",
    "\n",
    "\n",
    "_I had also planned a box plot of the salary spread for each individual job title, but again since there is only one each, it is not going to be very meaningful._\n",
    "\n",
    "__For what it's worth, here it is:__"
   ]
  },
  {
   "cell_type": "code",
   "execution_count": 419,
   "metadata": {
    "collapsed": false
   },
   "outputs": [
    {
     "data": {
      "text/plain": [
       "<matplotlib.axes._subplots.AxesSubplot at 0x1164f01d0>"
      ]
     },
     "execution_count": 419,
     "metadata": {},
     "output_type": "execute_result"
    },
    {
     "data": {
      "image/png": "[encoded data removed]",
      "text/plain": [
       "<matplotlib.figure.Figure at 0x120138dd0>"
      ]
     },
     "metadata": {},
     "output_type": "display_data"
    }
   ],
   "source": [
    "table_four_highest_sal_jts.plot.box()"
   ]
  },
  {
   "cell_type": "markdown",
   "metadata": {},
   "source": [
    "__So to finish up the question, here is that first box plot again (with a title added):__"
   ]
  },
  {
   "cell_type": "code",
   "execution_count": 420,
   "metadata": {
    "collapsed": false
   },
   "outputs": [
    {
     "data": {
      "text/plain": [
       "<matplotlib.axes._subplots.AxesSubplot at 0x11a6ee990>"
      ]
     },
     "execution_count": 420,
     "metadata": {},
     "output_type": "execute_result"
    },
    {
     "data": {
      "image/png": "[encoded data removed]",
      "text/plain": [
       "<matplotlib.figure.Figure at 0x11a726610>"
      ]
     },
     "metadata": {},
     "output_type": "display_data"
    }
   ],
   "source": [
    "four_highest_sal_jts.plot.box(title=\"Four Job Titles with the Highest Average Salaries\")"
   ]
  },
  {
   "cell_type": "code",
   "execution_count": null,
   "metadata": {
    "collapsed": true
   },
   "outputs": [],
   "source": []
  }
 ],
 "metadata": {
  "kernelspec": {
   "display_name": "Python [default]",
   "language": "python",
   "name": "python2"
  },
  "language_info": {
   "codemirror_mode": {
    "name": "ipython",
    "version": 2
   },
   "file_extension": ".py",
   "mimetype": "text/x-python",
   "name": "python",
   "nbconvert_exporter": "python",
   "pygments_lexer": "ipython2",
   "version": "2.7.12"
  }
 },
 "nbformat": 4,
 "nbformat_minor": 1
}
